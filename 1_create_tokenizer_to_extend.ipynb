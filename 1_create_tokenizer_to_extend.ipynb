{
  "cells": [
    {
      "cell_type": "code",
      "execution_count": null,
      "metadata": {
        "id": "XsY0_VuBVf8w"
      },
      "outputs": [],
      "source": [
        "import json\n",
        "\n",
        "with open('smiles_array.json', 'r') as json_file:\n",
        "    smiles_array = json.load(json_file)"
      ]
    },
    {
      "cell_type": "code",
      "execution_count": null,
      "metadata": {
        "colab": {
          "base_uri": "https://localhost:8080/"
        },
        "id": "14byByQxV1XI",
        "outputId": "aef5b504-cb96-4ca6-b915-7c91d90ebe9e"
      },
      "outputs": [
        {
          "data": {
            "text/plain": [
              "278634"
            ]
          },
          "execution_count": 2,
          "metadata": {},
          "output_type": "execute_result"
        }
      ],
      "source": [
        "len(smiles_array)"
      ]
    },
    {
      "cell_type": "code",
      "execution_count": null,
      "metadata": {
        "id": "PQMx4ODRTDWi"
      },
      "outputs": [],
      "source": [
        "from tokenizers import Tokenizer, models\n",
        "from tokenizers.pre_tokenizers import ByteLevel\n",
        "from tokenizers.trainers import BpeTrainer"
      ]
    },
    {
      "cell_type": "code",
      "execution_count": null,
      "metadata": {
        "id": "Oynrb-vzXET0"
      },
      "outputs": [],
      "source": [
        "tokenizer = Tokenizer(models.BPE())"
      ]
    },
    {
      "cell_type": "code",
      "execution_count": null,
      "metadata": {
        "id": "Q6RhYUXCXF_3"
      },
      "outputs": [],
      "source": [
        "tokenizer.pre_tokenizer = ByteLevel()"
      ]
    },
    {
      "cell_type": "code",
      "execution_count": null,
      "metadata": {
        "id": "Q0wW7LuhXJRM"
      },
      "outputs": [],
      "source": [
        "trainer = BpeTrainer(\n",
        "    vocab_size=20000,\n",
        ")"
      ]
    },
    {
      "cell_type": "code",
      "execution_count": null,
      "metadata": {
        "id": "oiNJPlltYCcm"
      },
      "outputs": [],
      "source": [
        "tokenizer.train_from_iterator(smiles_array, trainer=trainer)"
      ]
    },
    {
      "cell_type": "code",
      "execution_count": null,
      "metadata": {
        "id": "0KXmbDqfYG0F"
      },
      "outputs": [],
      "source": [
        "tokenizer.save(\"tokenizer-smiles-20000.json\")"
      ]
    }
  ],
  "metadata": {
    "colab": {
      "provenance": []
    },
    "kernelspec": {
      "display_name": "Python 3",
      "name": "python3"
    },
    "language_info": {
      "name": "python"
    }
  },
  "nbformat": 4,
  "nbformat_minor": 0
}
