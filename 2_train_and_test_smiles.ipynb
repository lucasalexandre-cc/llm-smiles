{
 "cells": [
  {
   "cell_type": "markdown",
   "id": "3652c361",
   "metadata": {},
   "source": [
    "## Carregando FlanT5"
   ]
  },
  {
   "cell_type": "code",
   "execution_count": 1,
   "id": "ef0a6479-69ea-422c-8d0f-9505ccddbbb6",
   "metadata": {},
   "outputs": [
    {
     "name": "stderr",
     "output_type": "stream",
     "text": [
      "You are using the default legacy behaviour of the <class 'transformers.models.t5.tokenization_t5.T5Tokenizer'>. This is expected, and simply means that the `legacy` (previous) behavior will be used so nothing changes for you. If you want to use the new behaviour, set `legacy=False`. This should only be set if you understand what it means, and thoroughly read the reason why this was added as explained in https://github.com/huggingface/transformers/pull/24565\n",
      "The new embeddings will be initialized from a multivariate normal distribution that has old embeddings' mean and covariance. As described in this article: https://nlp.stanford.edu/~johnhew/vocab-expansion.html. To disable this, use `mean_resizing=False`\n"
     ]
    },
    {
     "name": "stdout",
     "output_type": "stream",
     "text": [
      "1926\n"
     ]
    },
    {
     "name": "stderr",
     "output_type": "stream",
     "text": [
      "The new lm_head weights will be initialized from a multivariate normal distribution that has old embeddings' mean and covariance. As described in this article: https://nlp.stanford.edu/~johnhew/vocab-expansion.html. To disable this, use `mean_resizing=False`\n"
     ]
    }
   ],
   "source": [
    "from transformers import T5ForConditionalGeneration, T5Tokenizer, PreTrainedTokenizerFast\n",
    "\n",
    "model_name = 'google/flan-t5-small'\n",
    "model = T5ForConditionalGeneration.from_pretrained(model_name)\n",
    "\n",
    "smiles_tokenizer = PreTrainedTokenizerFast(\n",
    "    tokenizer_file=\"./data_to_train/tokenizer-smiles-20000.json\"\n",
    ")\n",
    "flan_t5_tokenizer = T5Tokenizer.from_pretrained(model_name)\n",
    "\n",
    "flan_t5_vocab = flan_t5_tokenizer.get_vocab()\n",
    "smiles_vocab = smiles_tokenizer.get_vocab()\n",
    "\n",
    "flan_t5_tokens = set(flan_t5_vocab.keys())\n",
    "smiles_tokens = set(smiles_vocab.keys())\n",
    "\n",
    "new_tokens = list(smiles_tokens - flan_t5_tokens)\n",
    "print(len(new_tokens))\n",
    "\n",
    "num_added_tokens = flan_t5_tokenizer.add_tokens(new_tokens)\n",
    "\n",
    "model.resize_token_embeddings(len(flan_t5_tokenizer))\n",
    "\n",
    "tokenizer = flan_t5_tokenizer"
   ]
  },
  {
   "cell_type": "markdown",
   "id": "7b8c188c",
   "metadata": {},
   "source": [
    "## Carregando Bart\n",
    "\n",
    "Obs: escolher entre FlanT5 ou Bart, se carregar os dois um sobrescrevera a variavel \"model\" e \"tokenizer\" do outro\n",
    "\n"
   ]
  },
  {
   "cell_type": "code",
   "execution_count": 5,
   "id": "0abd8d94-1523-4d07-95a1-6494b523aa36",
   "metadata": {},
   "outputs": [
    {
     "name": "stdout",
     "output_type": "stream",
     "text": [
      "1863\n"
     ]
    }
   ],
   "source": [
    "from transformers import BartForConditionalGeneration, PreTrainedTokenizerFast, BartTokenizer\n",
    "\n",
    "model_name = 'facebook/bart-base'\n",
    "model = BartForConditionalGeneration.from_pretrained(model_name)\n",
    "\n",
    "smiles_tokenizer = PreTrainedTokenizerFast(\n",
    "    tokenizer_file=\"./data_to_train/tokenizer-smiles-20000.json\"\n",
    ")\n",
    "\n",
    "bart_tokenizer = BartTokenizer.from_pretrained(model_name)\n",
    "\n",
    "bart_vocab = bart_tokenizer.get_vocab()\n",
    "smiles_vocab = smiles_tokenizer.get_vocab()\n",
    "\n",
    "bart_tokens = set(bart_vocab.keys())\n",
    "smiles_tokens = set(smiles_vocab.keys())\n",
    "\n",
    "new_tokens = list(smiles_tokens - bart_tokens)\n",
    "print(len(new_tokens))\n",
    "\n",
    "num_added_tokens = bart_tokenizer.add_tokens(new_tokens)\n",
    "\n",
    "\n",
    "model.resize_token_embeddings(len(bart_tokenizer))\n",
    "\n",
    "tokenizer = bart_tokenizer"
   ]
  },
  {
   "cell_type": "markdown",
   "id": "152018e3",
   "metadata": {},
   "source": [
    "## Carregando e processando dados"
   ]
  },
  {
   "cell_type": "code",
   "execution_count": 2,
   "id": "95c4453a-33c4-4d2b-afb1-56773364c921",
   "metadata": {},
   "outputs": [
    {
     "name": "stdout",
     "output_type": "stream",
     "text": [
      "DatasetDict({\n",
      "    train: Dataset({\n",
      "        features: ['name', 'smiles'],\n",
      "        num_rows: 250768\n",
      "    })\n",
      "    validation: Dataset({\n",
      "        features: ['name', 'smiles'],\n",
      "        num_rows: 27864\n",
      "    })\n",
      "})\n"
     ]
    }
   ],
   "source": [
    "import json\n",
    "from datasets import Dataset, DatasetDict\n",
    "from sklearn.model_selection import train_test_split\n",
    "\n",
    "with open(\"./data/moleculas.json\", \"r\", encoding='utf-8') as f:\n",
    "    data = json.load(f)\n",
    "\n",
    "def is_valid_record(entry):\n",
    "    \"\"\"Validate a record to ensure required fields are present and valid.\"\"\"\n",
    "    if not isinstance(entry.get('Name'), str) or not entry['Name'].strip():\n",
    "        return False\n",
    "    if not isinstance(entry.get('Canonical SMILES'), str) or not entry['Canonical SMILES'].strip():\n",
    "        return False\n",
    "    return True\n",
    "\n",
    "processed_data = [\n",
    "    {\n",
    "        'name': entry['Name'].strip(),\n",
    "        'smiles': entry['Canonical SMILES'].strip()\n",
    "    }\n",
    "    for entry in data if is_valid_record(entry)\n",
    "]\n",
    "\n",
    "if not processed_data:\n",
    "    raise ValueError(\"No valid data found after cleaning!\")\n",
    "\n",
    "train_data, val_data = train_test_split(processed_data, test_size=0.1, random_state=42)\n",
    "\n",
    "train_dataset = Dataset.from_list(train_data)\n",
    "val_dataset = Dataset.from_list(val_data)\n",
    "\n",
    "dataset = DatasetDict({\n",
    "    'train': train_dataset,\n",
    "    'validation': val_dataset\n",
    "})\n",
    "\n",
    "print(dataset)"
   ]
  },
  {
   "cell_type": "code",
   "execution_count": 3,
   "id": "fcf50996-cb40-4526-8322-2df7989a21de",
   "metadata": {},
   "outputs": [
    {
     "data": {
      "application/vnd.jupyter.widget-view+json": {
       "model_id": "4ea9aaeafdd742b4988ac817d5bbc9dd",
       "version_major": 2,
       "version_minor": 0
      },
      "text/plain": [
       "Map:   0%|          | 0/250768 [00:00<?, ? examples/s]"
      ]
     },
     "metadata": {},
     "output_type": "display_data"
    },
    {
     "name": "stderr",
     "output_type": "stream",
     "text": [
      "/home/lucas/.local/lib/python3.10/site-packages/transformers/tokenization_utils_base.py:4114: UserWarning: `as_target_tokenizer` is deprecated and will be removed in v5 of Transformers. You can tokenize your labels by using the argument `text_target` of the regular `__call__` method (either in the same call as your input texts if you use the same keyword arguments, or in a separate call.\n",
      "  warnings.warn(\n"
     ]
    },
    {
     "data": {
      "application/vnd.jupyter.widget-view+json": {
       "model_id": "36ec23a4cf834e5d8903daf36225883d",
       "version_major": 2,
       "version_minor": 0
      },
      "text/plain": [
       "Map:   0%|          | 0/27864 [00:00<?, ? examples/s]"
      ]
     },
     "metadata": {},
     "output_type": "display_data"
    }
   ],
   "source": [
    "def preprocess_function(examples):\n",
    "    # inputs = examples['smiles'] # remover comentario se esta usando o BART\n",
    "    inputs = [f\"Translate SMILES into molecule name: {smile}\" for smile in examples['smiles']] # remover comentario se esta usando o FlanT5\n",
    "    targets = examples['name']\n",
    "    \n",
    "    model_inputs = tokenizer(\n",
    "        inputs, max_length=256, truncation=True, padding='max_length'\n",
    "    )\n",
    "    \n",
    "    with tokenizer.as_target_tokenizer():\n",
    "        labels = tokenizer(\n",
    "            targets, max_length=256, truncation=True, padding='max_length'\n",
    "        )'\n",
    "    \n",
    "    model_inputs['labels'] = labels['input_ids']\n",
    "    return model_inputs\n",
    "\n",
    "tokenized_datasets = dataset.map(\n",
    "    preprocess_function,\n",
    "    batched=True,\n",
    "    remove_columns=dataset['train'].column_names\n",
    ")"
   ]
  },
  {
   "cell_type": "markdown",
   "id": "3be88f2e",
   "metadata": {},
   "source": [
    "## Treinamento"
   ]
  },
  {
   "cell_type": "code",
   "execution_count": 4,
   "id": "b54c2f31-63e1-4fc0-bb15-e52c13ec324f",
   "metadata": {},
   "outputs": [
    {
     "name": "stdout",
     "output_type": "stream",
     "text": [
      "True\n"
     ]
    },
    {
     "name": "stderr",
     "output_type": "stream",
     "text": [
      "/home/lucas/.local/lib/python3.10/site-packages/transformers/training_args.py:1559: FutureWarning: `evaluation_strategy` is deprecated and will be removed in version 4.46 of 🤗 Transformers. Use `eval_strategy` instead\n",
      "  warnings.warn(\n",
      "/tmp/ipykernel_4353/3404049643.py:34: FutureWarning: `tokenizer` is deprecated and will be removed in version 5.0.0 for `Trainer.__init__`. Use `processing_class` instead.\n",
      "  trainer = Trainer(\n"
     ]
    }
   ],
   "source": [
    "from transformers import TrainingArguments, Trainer\n",
    "from peft import LoraConfig, get_peft_model, TaskType\n",
    "import torch\n",
    "\n",
    "\n",
    "lora_config = LoraConfig(\n",
    "    task_type=TaskType.SEQ_2_SEQ_LM,\n",
    "    inference_mode=False,\n",
    "    r=8,\n",
    "    lora_alpha=32,\n",
    "    lora_dropout=0.1,\n",
    ")\n",
    "\n",
    "model = get_peft_model(model, lora_config)\n",
    "\n",
    "training_args = TrainingArguments(\n",
    "    output_dir='./results_lora',\n",
    "    evaluation_strategy='epoch',\n",
    "    save_strategy='epoch',\n",
    "    learning_rate=5e-4,\n",
    "    per_device_train_batch_size=8,\n",
    "    per_device_eval_batch_size=8,\n",
    "    num_train_epochs=3,\n",
    "    weight_decay=0.01,\n",
    "    save_total_limit=2,\n",
    "    logging_steps=100,\n",
    "    load_best_model_at_end=True,\n",
    "    report_to=[],\n",
    ")\n",
    "\n",
    "trainer = Trainer(\n",
    "    model=model,\n",
    "    args=training_args,\n",
    "    train_dataset=tokenized_datasets['train'],\n",
    "    eval_dataset=tokenized_datasets['validation'],\n",
    "    tokenizer=tokenizer,\n",
    ")"
   ]
  },
  {
   "cell_type": "code",
   "execution_count": 5,
   "id": "8e370cbe-ec60-4430-946a-4d2c22f53202",
   "metadata": {},
   "outputs": [
    {
     "name": "stderr",
     "output_type": "stream",
     "text": [
      "Passing a tuple of `past_key_values` is deprecated and will be removed in Transformers v4.48.0. You should pass an instance of `EncoderDecoderCache` instead, e.g. `past_key_values=EncoderDecoderCache.from_legacy_cache(past_key_values)`.\n"
     ]
    },
    {
     "data": {
      "text/html": [
       "\n",
       "    <div>\n",
       "      \n",
       "      <progress value='94038' max='94038' style='width:300px; height:20px; vertical-align: middle;'></progress>\n",
       "      [94038/94038 5:36:38, Epoch 3/3]\n",
       "    </div>\n",
       "    <table border=\"1\" class=\"dataframe\">\n",
       "  <thead>\n",
       " <tr style=\"text-align: left;\">\n",
       "      <th>Epoch</th>\n",
       "      <th>Training Loss</th>\n",
       "      <th>Validation Loss</th>\n",
       "    </tr>\n",
       "  </thead>\n",
       "  <tbody>\n",
       "    <tr>\n",
       "      <td>1</td>\n",
       "      <td>1.595300</td>\n",
       "      <td>1.483167</td>\n",
       "    </tr>\n",
       "    <tr>\n",
       "      <td>2</td>\n",
       "      <td>1.574300</td>\n",
       "      <td>1.469656</td>\n",
       "    </tr>\n",
       "    <tr>\n",
       "      <td>3</td>\n",
       "      <td>1.573200</td>\n",
       "      <td>1.462873</td>\n",
       "    </tr>\n",
       "  </tbody>\n",
       "</table><p>"
      ],
      "text/plain": [
       "<IPython.core.display.HTML object>"
      ]
     },
     "metadata": {},
     "output_type": "display_data"
    },
    {
     "name": "stderr",
     "output_type": "stream",
     "text": [
      "/home/lucas/.local/lib/python3.10/site-packages/peft/utils/save_and_load.py:257: UserWarning: Setting `save_embedding_layers` to `True` as the embedding layer has been resized during finetuning.\n",
      "  warnings.warn(\n",
      "/home/lucas/.local/lib/python3.10/site-packages/peft/utils/save_and_load.py:257: UserWarning: Setting `save_embedding_layers` to `True` as the embedding layer has been resized during finetuning.\n",
      "  warnings.warn(\n",
      "/home/lucas/.local/lib/python3.10/site-packages/peft/utils/save_and_load.py:257: UserWarning: Setting `save_embedding_layers` to `True` as the embedding layer has been resized during finetuning.\n",
      "  warnings.warn(\n",
      "/home/lucas/.local/lib/python3.10/site-packages/peft/utils/save_and_load.py:257: UserWarning: Setting `save_embedding_layers` to `True` as the embedding layer has been resized during finetuning.\n",
      "  warnings.warn(\n"
     ]
    },
    {
     "data": {
      "text/plain": [
       "TrainOutput(global_step=94038, training_loss=1.6153049812583815, metrics={'train_runtime': 20199.1644, 'train_samples_per_second': 37.244, 'train_steps_per_second': 4.656, 'total_flos': 7.144358948949197e+16, 'train_loss': 1.6153049812583815, 'epoch': 3.0})"
      ]
     },
     "execution_count": 5,
     "metadata": {},
     "output_type": "execute_result"
    }
   ],
   "source": [
    "trainer.train()"
   ]
  },
  {
   "cell_type": "code",
   "execution_count": 6,
   "id": "ae9d01d6-064d-42b7-8935-5fc5c9fd3c43",
   "metadata": {},
   "outputs": [
    {
     "name": "stderr",
     "output_type": "stream",
     "text": [
      "/home/lucas/.local/lib/python3.10/site-packages/peft/utils/save_and_load.py:257: UserWarning: Setting `save_embedding_layers` to `True` as the embedding layer has been resized during finetuning.\n",
      "  warnings.warn(\n"
     ]
    }
   ],
   "source": [
    "model.save_pretrained(\"./models/flant5-mini-smiles-v1\")"
   ]
  },
  {
   "cell_type": "code",
   "execution_count": 6,
   "id": "ebcf2243-6e21-4cd0-adc1-a458df91e941",
   "metadata": {},
   "outputs": [
    {
     "data": {
      "text/plain": [
       "('./models/bart-smiles-v1/tokenizer_config.json',\n",
       " './models/bart-smiles-v1/special_tokens_map.json',\n",
       " './models/bart-smiles-v1/vocab.json',\n",
       " './models/bart-smiles-v1/merges.txt',\n",
       " './models/bart-smiles-v1/added_tokens.json')"
      ]
     },
     "execution_count": 6,
     "metadata": {},
     "output_type": "execute_result"
    }
   ],
   "source": [
    "tokenizer.save_pretrained(\"./models/flant5-mini-smiles-v1\")"
   ]
  },
  {
   "cell_type": "markdown",
   "id": "2863f803",
   "metadata": {},
   "source": [
    "## Testando modelo nos respectivos dados de teste"
   ]
  },
  {
   "cell_type": "code",
   "execution_count": null,
   "id": "cc5df4db",
   "metadata": {},
   "outputs": [],
   "source": [
    "from transformers import AutoTokenizer, BartTokenizer, AutoModelForSeq2SeqLM\n",
    "\n",
    "# bart\n",
    "bart_tunning_tokenizer = AutoTokenizer.from_pretrained('./models/bart-smiles-v1')\n",
    "bart_tunning_model =  AutoModelForSeq2SeqLM.from_pretrained('./models/bart-smiles-v1')\n",
    "\n",
    "# flanT5\n",
    "flant5_tunning_tokenizer = AutoTokenizer.from_pretrained('./models/flant5-mini-smiles-v1')\n",
    "flant5_tunning_model = AutoModelForSeq2SeqLM.from_pretrained('./models/flant5-mini-smiles-v1')"
   ]
  },
  {
   "cell_type": "code",
   "execution_count": null,
   "id": "56596d81",
   "metadata": {},
   "outputs": [],
   "source": [
    "import json\n",
    "from datasets import Dataset, DatasetDict\n",
    "from sklearn.model_selection import train_test_split\n",
    "\n",
    "with open(\"./moleculas.json\", \"r\", encoding='utf-8') as f:\n",
    "    data = json.load(f)\n",
    "\n",
    "def is_valid_record(entry):\n",
    "    \"\"\"Validate a record to ensure required fields are present and valid.\"\"\"\n",
    "    if not isinstance(entry.get('Name'), str) or not entry['Name'].strip():\n",
    "        return False\n",
    "    if not isinstance(entry.get('Canonical SMILES'), str) or not entry['Canonical SMILES'].strip():\n",
    "        return False\n",
    "    return True\n",
    "\n",
    "processed_data = [\n",
    "    {\n",
    "        'name': entry['Name'].strip(),\n",
    "        'smiles': entry['Canonical SMILES'].strip()\n",
    "    }\n",
    "    for entry in data if is_valid_record(entry)\n",
    "]\n",
    "\n",
    "if not processed_data:\n",
    "    raise ValueError(\"No valid data found after cleaning!\")\n",
    "\n",
    "_, val_data = train_test_split(processed_data, test_size=0.1, random_state=42)\n",
    "\n",
    "def clean_val_data(data):\n",
    "    return [\n",
    "        item for item in data\n",
    "        if item.get('name') and item.get('smiles')\n",
    "        and len(item['name']) <= 250\n",
    "        and len(item['smiles']) <= 250\n",
    "    ]\n",
    "\n",
    "val_data = clean_val_data(val_data)\n",
    "\n",
    "print(f\"Size of validation database: {len(val_data)}\")\n",
    "print(val_data[0])"
   ]
  },
  {
   "cell_type": "code",
   "execution_count": 13,
   "id": "ec8e04d2-87c3-4025-8ca2-edbaa43c1c22",
   "metadata": {},
   "outputs": [
    {
     "name": "stdout",
     "output_type": "stream",
     "text": [
      "Generated Name: 1-Fluoro-4-[4-[4-(4-propylcyclohexyl)cyclohexyl]cyclohexyl]benzene\n"
     ]
    }
   ],
   "source": [
    "import csv\n",
    "from Levenshtein import distance as levenshtein_distance\n",
    "from tqdm import tqdm\n",
    "import torch\n",
    "\n",
    "def generate_inferences(model, tokenizer, val_data, output_csv, device=None, batch_size=16, max_length=250, num_beams=3):\n",
    "    device = device or torch.device(\"cuda\" if torch.cuda.is_available() else \"cpu\")\n",
    "    model = model.to(device)\n",
    "\n",
    "    with open(output_csv, mode=\"w\", newline=\"\", encoding=\"utf-8\") as file:\n",
    "        writer = csv.writer(file)\n",
    "        writer.writerow([\"input_text\", \"expected_output\", \"generated_output\", \"model_name\"])\n",
    "\n",
    "        for i in tqdm(range(0, len(val_data), batch_size), desc=\"Processing Batches\", unit=\"batch\"):\n",
    "            try:\n",
    "                batch = val_data[i:i + batch_size]\n",
    "\n",
    "                input_texts = [record['smiles'] for record in batch]\n",
    "                expected_outputs = [record['name'] for record in batch]\n",
    "                print(batch)\n",
    "                print(\"####\")\n",
    "\n",
    "                inputs = tokenizer(input_texts, return_tensors=\"pt\", padding=True, truncation=True).to(device)\n",
    "\n",
    "                outputs = model.generate(\n",
    "                    **inputs,\n",
    "                    max_length=max_length,\n",
    "                    num_beams=num_beams,\n",
    "                    early_stopping=True\n",
    "                )\n",
    "\n",
    "                generated_outputs = tokenizer.batch_decode(outputs, skip_special_tokens=True)\n",
    "\n",
    "                for input_text, expected_output, generated_output in zip(input_texts, expected_outputs, generated_outputs):\n",
    "                    writer.writerow([input_text, expected_output, generated_output, model.config.name_or_path])\n",
    "            except Exception as e:\n",
    "                print(f\"Error generating output for batch {i}: {e}\")\n",
    "                continue\n",
    "\n",
    "generate_inferences(\n",
    "    model=bart_tunning_model,\n",
    "    tokenizer=bart_tunning_tokenizer,\n",
    "    val_data=val_data,\n",
    "    output_csv=\"bart_results.csv\"\n",
    ")\n",
    "\n",
    "generate_inferences(\n",
    "    model=flant5_tunning_model,\n",
    "    tokenizer=flant5_tunning_tokenizer,\n",
    "    val_data=[{'smiles': f\"Translatse SMILES into molecule name: {entry['smiles']}\", 'name': entry['name']} for entry in val_data],\n",
    "    output_csv=\"flant5_results.csv\"\n",
    ")"
   ]
  }
 ],
 "metadata": {
  "kernelspec": {
   "display_name": "Python 3 (ipykernel)",
   "language": "python",
   "name": "python3"
  },
  "language_info": {
   "codemirror_mode": {
    "name": "ipython",
    "version": 3
   },
   "file_extension": ".py",
   "mimetype": "text/x-python",
   "name": "python",
   "nbconvert_exporter": "python",
   "pygments_lexer": "ipython3",
   "version": "3.10.12"
  }
 },
 "nbformat": 4,
 "nbformat_minor": 5
}
